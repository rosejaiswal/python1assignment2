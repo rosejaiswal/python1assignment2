{
 "cells": [
  {
   "cell_type": "code",
   "execution_count": 1,
   "id": "d699fb0d-0608-4cc0-96b3-ddce9cd7d840",
   "metadata": {},
   "outputs": [],
   "source": [
    "a=[2,3,5,'rose', 35.64,]"
   ]
  },
  {
   "cell_type": "code",
   "execution_count": 2,
   "id": "e5431573-d36d-4cb4-86b5-8246b2abd06f",
   "metadata": {},
   "outputs": [],
   "source": [
    "#given are some following variable containing data "
   ]
  },
  {
   "cell_type": "code",
   "execution_count": 3,
   "id": "1865e131-9b05-48c5-ada3-1763aa40c3d4",
   "metadata": {},
   "outputs": [],
   "source": [
    "var1=''"
   ]
  },
  {
   "cell_type": "code",
   "execution_count": 4,
   "id": "73aed07c-1cce-428f-9b4b-317571ee23b0",
   "metadata": {},
   "outputs": [
    {
     "data": {
      "text/plain": [
       "str"
      ]
     },
     "execution_count": 4,
     "metadata": {},
     "output_type": "execute_result"
    }
   ],
   "source": [
    "type(var1)"
   ]
  },
  {
   "cell_type": "code",
   "execution_count": 5,
   "id": "d0a532a6-ae2c-4781-abdb-978cabdd41c0",
   "metadata": {},
   "outputs": [],
   "source": [
    "var2='[DS,ML,PYTHON]'"
   ]
  },
  {
   "cell_type": "code",
   "execution_count": 6,
   "id": "51ece647-e451-40da-a75b-a729d4252463",
   "metadata": {},
   "outputs": [
    {
     "data": {
      "text/plain": [
       "str"
      ]
     },
     "execution_count": 6,
     "metadata": {},
     "output_type": "execute_result"
    }
   ],
   "source": [
    "type(var2)"
   ]
  },
  {
   "cell_type": "code",
   "execution_count": 7,
   "id": "0d91d897-a9d0-4696-8147-a9c4559ae47b",
   "metadata": {},
   "outputs": [],
   "source": [
    "var3=['DS','MS', 'PYHTON',]"
   ]
  },
  {
   "cell_type": "code",
   "execution_count": 8,
   "id": "c3c8965a-d7fe-46d7-9c57-1ad6f275dd5d",
   "metadata": {},
   "outputs": [
    {
     "data": {
      "text/plain": [
       "list"
      ]
     },
     "execution_count": 8,
     "metadata": {},
     "output_type": "execute_result"
    }
   ],
   "source": [
    "type(var3)"
   ]
  },
  {
   "cell_type": "raw",
   "id": "8ae4a1bb-03a7-473c-9fc8-922dabf33644",
   "metadata": {},
   "source": [
    "var4=1"
   ]
  },
  {
   "cell_type": "code",
   "execution_count": 12,
   "id": "2beb3329-dd54-44ed-942b-6bf340e2e714",
   "metadata": {},
   "outputs": [],
   "source": [
    "#use of following operators example"
   ]
  },
  {
   "cell_type": "code",
   "execution_count": 13,
   "id": "c84e1e19-58be-4f49-b5b6-1825eb3fc745",
   "metadata": {},
   "outputs": [],
   "source": [
    "a=5"
   ]
  },
  {
   "cell_type": "code",
   "execution_count": 14,
   "id": "b2db086e-faca-4dbf-bedd-a9d2e3073242",
   "metadata": {},
   "outputs": [],
   "source": [
    "b=2"
   ]
  },
  {
   "cell_type": "code",
   "execution_count": 15,
   "id": "17d10e19-9691-44fa-89e5-d92df760e5d9",
   "metadata": {},
   "outputs": [
    {
     "data": {
      "text/plain": [
       "2.5"
      ]
     },
     "execution_count": 15,
     "metadata": {},
     "output_type": "execute_result"
    }
   ],
   "source": [
    "a/b"
   ]
  },
  {
   "cell_type": "code",
   "execution_count": 16,
   "id": "d7c6b0a2-38d3-4af9-b781-4ef49150cd7f",
   "metadata": {},
   "outputs": [
    {
     "data": {
      "text/plain": [
       "1"
      ]
     },
     "execution_count": 16,
     "metadata": {},
     "output_type": "execute_result"
    }
   ],
   "source": [
    "a%b"
   ]
  },
  {
   "cell_type": "code",
   "execution_count": 17,
   "id": "bb465d9b-325b-4dcb-8b83-c9f0a66ea993",
   "metadata": {},
   "outputs": [
    {
     "data": {
      "text/plain": [
       "2"
      ]
     },
     "execution_count": 17,
     "metadata": {},
     "output_type": "execute_result"
    }
   ],
   "source": [
    "a//b"
   ]
  },
  {
   "cell_type": "code",
   "execution_count": 18,
   "id": "5e435126-a89b-4464-bc28-e9386e00760f",
   "metadata": {},
   "outputs": [
    {
     "data": {
      "text/plain": [
       "25"
      ]
     },
     "execution_count": 18,
     "metadata": {},
     "output_type": "execute_result"
    }
   ],
   "source": [
    "a**b"
   ]
  },
  {
   "cell_type": "code",
   "execution_count": 19,
   "id": "b99370c5-66a7-4c8e-818f-a97daa257c43",
   "metadata": {},
   "outputs": [],
   "source": [
    "#list of length 10 containing multiple types of data .using for loop print the element and its data types."
   ]
  },
  {
   "cell_type": "code",
   "execution_count": 23,
   "id": "ae606982-14d6-4cee-af47-6a0fa74d57fa",
   "metadata": {},
   "outputs": [],
   "source": [
    "l=[2,3.56,'rose','[ds,pyhton,ms]',1,['rose','hello',1,3.5],True,False]"
   ]
  },
  {
   "cell_type": "code",
   "execution_count": 24,
   "id": "5b6577cb-5690-4a8a-8ff7-d352beffa58c",
   "metadata": {},
   "outputs": [
    {
     "name": "stdout",
     "output_type": "stream",
     "text": [
      "<class 'int'>\n",
      "<class 'float'>\n",
      "<class 'str'>\n",
      "<class 'str'>\n",
      "<class 'int'>\n",
      "<class 'list'>\n",
      "<class 'bool'>\n",
      "<class 'bool'>\n"
     ]
    }
   ],
   "source": [
    "for rose in l:\n",
    "        print(type(rose))"
   ]
  },
  {
   "cell_type": "code",
   "execution_count": null,
   "id": "fd7c38bc-64f4-4481-b7d5-ca79233c4be5",
   "metadata": {},
   "outputs": [],
   "source": [
    "#in mutable data type you can change data with the help of indexing but you can not the change data in \n",
    "#immutable data type the is example of mutable data type is list the example of immutable data type is string"
   ]
  },
  {
   "cell_type": "code",
   "execution_count": null,
   "id": "92983291-54df-41a6-a52b-fae1089d354f",
   "metadata": {},
   "outputs": [],
   "source": [
    "l"
   ]
  },
  {
   "cell_type": "code",
   "execution_count": null,
   "id": "33d92380-801e-4e7a-9493-c5c19fc3c110",
   "metadata": {},
   "outputs": [],
   "source": []
  }
 ],
 "metadata": {
  "kernelspec": {
   "display_name": "Python 3 (ipykernel)",
   "language": "python",
   "name": "python3"
  },
  "language_info": {
   "codemirror_mode": {
    "name": "ipython",
    "version": 3
   },
   "file_extension": ".py",
   "mimetype": "text/x-python",
   "name": "python",
   "nbconvert_exporter": "python",
   "pygments_lexer": "ipython3",
   "version": "3.10.8"
  }
 },
 "nbformat": 4,
 "nbformat_minor": 5
}
